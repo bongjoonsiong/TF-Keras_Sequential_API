{
  "nbformat": 4,
  "nbformat_minor": 0,
  "metadata": {
    "colab": {
      "provenance": [],
      "authorship_tag": "ABX9TyMm2rtOPUNrxvrIfnL39S6W",
      "include_colab_link": true
    },
    "kernelspec": {
      "name": "python3",
      "display_name": "Python 3"
    },
    "language_info": {
      "name": "python"
    }
  },
  "cells": [
    {
      "cell_type": "markdown",
      "metadata": {
        "id": "view-in-github",
        "colab_type": "text"
      },
      "source": [
        "<a href=\"https://colab.research.google.com/github/bongjoonsiong/TF-Keras_Sequential_API/blob/main/TF_Keras_Sequential_API.ipynb\" target=\"_parent\"><img src=\"https://colab.research.google.com/assets/colab-badge.svg\" alt=\"Open In Colab\"/></a>"
      ]
    },
    {
      "cell_type": "markdown",
      "source": [
        "# Introducing the Keras Sequential API on Vertex AI Platform"
      ],
      "metadata": {
        "id": "N9tNfjAaNXBK"
      }
    },
    {
      "cell_type": "markdown",
      "source": [
        "**Learning objectives**\n",
        "  1. Build a DNN model using the Keras Sequential API\n",
        "  1. Learn how to use feature columns in a Keras model\n",
        "  1. Learn how to train a model with Keras\n",
        "  1. Learn how to save/load, and deploy a Keras model on GCP\n",
        "  1. Learn how to deploy the Model to Vertex AI and make predictions with the Keras model"
      ],
      "metadata": {
        "id": "DycTEwV5NZdL"
      }
    },
    {
      "cell_type": "markdown",
      "source": [
        "## Introduction\n"
      ],
      "metadata": {
        "id": "OWe_dlwmNd16"
      }
    },
    {
      "cell_type": "markdown",
      "source": [
        "The [Keras sequential API](https://keras.io/models/sequential/) allows you to create Tensorflow models layer-by-layer. This is useful for building most kinds of machine learning models but it does not allow you to create models that share layers, re-use layers or have multiple inputs or outputs.\n",
        "\n",
        "In this lab, we'll see how to build a simple deep neural network model using the Keras sequential api and feature columns. Once we have trained our model, we will deploy it using Vertex AI and see how to call our model for online prediciton.\n",
        "\n",
        "Each learning objective will correspond to a __#TODO__  in this student lab notebook -- try to complete this notebook first and then review the [solution notebook](../solutions/3_keras_sequential_api.ipynb)"
      ],
      "metadata": {
        "id": "B_QtuJLXNe9w"
      }
    },
    {
      "cell_type": "code",
      "source": [
        "!sudo chown -R jupyter:jupyter /home/jupyter/training-data-analyst"
      ],
      "metadata": {
        "id": "Ler44hjiNipM"
      },
      "execution_count": null,
      "outputs": []
    },
    {
      "cell_type": "code",
      "source": [
        "!pip3 install google-cloud-bigquery==2.34.4 -U"
      ],
      "metadata": {
        "id": "8yVkJ3dzNkM7"
      },
      "execution_count": null,
      "outputs": []
    },
    {
      "cell_type": "code",
      "source": [
        "!pip install google-cloud-aiplatform==1.20.0"
      ],
      "metadata": {
        "id": "KsBgyb6tNlv8"
      },
      "execution_count": null,
      "outputs": []
    },
    {
      "cell_type": "markdown",
      "source": [
        "**Note:** Please restart the kernel by clicking **Kernel > Restart Kernel**"
      ],
      "metadata": {
        "id": "U62o4bZ6NnkG"
      }
    },
    {
      "cell_type": "markdown",
      "source": [
        "Start by importing the necessary libraries for this lab."
      ],
      "metadata": {
        "id": "uiV3tyV2Npw2"
      }
    },
    {
      "cell_type": "code",
      "source": [
        "import datetime\n",
        "import os\n",
        "import shutil\n",
        "\n",
        "import numpy as np\n",
        "import pandas as pd\n",
        "import tensorflow as tf\n",
        "from google.cloud import aiplatform\n",
        "from matplotlib import pyplot as plt\n",
        "from tensorflow import keras\n",
        "from tensorflow.keras.callbacks import TensorBoard\n",
        "from tensorflow.keras.layers import Dense, DenseFeatures\n",
        "from tensorflow.keras.models import Sequential\n",
        "\n",
        "print(tf.__version__)\n",
        "%matplotlib inline"
      ],
      "metadata": {
        "id": "Rgbu5gFPNsMn"
      },
      "execution_count": null,
      "outputs": []
    },
    {
      "cell_type": "markdown",
      "source": [
        "## Load raw data\n"
      ],
      "metadata": {
        "id": "22Xf06W9Nt-K"
      }
    },
    {
      "cell_type": "markdown",
      "source": [
        "We will use the taxifare dataset, using the CSV files that we created in the first notebook of this sequence. Those files have been saved into `../data`."
      ],
      "metadata": {
        "id": "OrLBLknmNxDE"
      }
    },
    {
      "cell_type": "code",
      "source": [
        "!ls -l ../data/*.csv"
      ],
      "metadata": {
        "id": "L49YMmamNy6Y"
      },
      "execution_count": null,
      "outputs": []
    },
    {
      "cell_type": "code",
      "source": [
        "!head ../data/taxi*.csv"
      ],
      "metadata": {
        "id": "I-1IZNFEN1Bq"
      },
      "execution_count": null,
      "outputs": []
    },
    {
      "cell_type": "markdown",
      "source": [
        "## Use tf.data to read the CSV files\n"
      ],
      "metadata": {
        "id": "sEbbxbxTN3g-"
      }
    },
    {
      "cell_type": "markdown",
      "source": [
        "We wrote these functions for reading data from the csv files above in the [previous notebook](./2a_dataset_api.ipynb)."
      ],
      "metadata": {
        "id": "KbnDZvPqN6Ug"
      }
    },
    {
      "cell_type": "code",
      "source": [
        "CSV_COLUMNS = [\n",
        "    \"fare_amount\",\n",
        "    \"pickup_datetime\",\n",
        "    \"pickup_longitude\",\n",
        "    \"pickup_latitude\",\n",
        "    \"dropoff_longitude\",\n",
        "    \"dropoff_latitude\",\n",
        "    \"passenger_count\",\n",
        "    \"key\",\n",
        "]\n",
        "LABEL_COLUMN = \"fare_amount\"\n",
        "DEFAULTS = [[0.0], [\"na\"], [0.0], [0.0], [0.0], [0.0], [0.0], [\"na\"]]\n",
        "UNWANTED_COLS = [\"pickup_datetime\", \"key\"]\n",
        "\n",
        "\n",
        "def features_and_labels(row_data):\n",
        "    label = row_data.pop(LABEL_COLUMN)\n",
        "    features = row_data\n",
        "\n",
        "    for unwanted_col in UNWANTED_COLS:\n",
        "        features.pop(unwanted_col)\n",
        "\n",
        "    return features, label\n",
        "\n",
        "\n",
        "def create_dataset(pattern, batch_size=1, mode=\"eval\"):\n",
        "    dataset = tf.data.experimental.make_csv_dataset(\n",
        "        pattern, batch_size, CSV_COLUMNS, DEFAULTS\n",
        "    )\n",
        "\n",
        "    dataset = dataset.map(features_and_labels)\n",
        "\n",
        "    if mode == \"train\":\n",
        "        dataset = dataset.shuffle(buffer_size=1000).repeat()\n",
        "\n",
        "    # take advantage of multi-threading; 1=AUTOTUNE\n",
        "    dataset = dataset.prefetch(1)\n",
        "    return dataset"
      ],
      "metadata": {
        "id": "LS0bfg4UN9OY"
      },
      "execution_count": null,
      "outputs": []
    },
    {
      "cell_type": "markdown",
      "source": [
        "## Build a simple keras DNN model"
      ],
      "metadata": {
        "id": "OJJe9FGyN-T7"
      }
    },
    {
      "cell_type": "markdown",
      "source": [
        "We will use feature columns to connect our raw data to our keras DNN model. Feature columns make it easy to perform common types of feature engineering on your raw data. For example, you can one-hot encode categorical data, create feature crosses, embeddings and more. We'll cover these in more detail later in the course, but if you want to a sneak peak browse the official TensorFlow [feature columns guide](https://www.tensorflow.org/guide/feature_columns).\n",
        "\n",
        "In our case we won't do any feature engineering. However, we still need to create a list of feature columns to specify the numeric values which will be passed on to our model. To do this, we use `tf.feature_column.numeric_column()`\n",
        "\n",
        "We use a python dictionary comprehension to create the feature columns for our model, which is just an elegant alternative to a for loop.\n",
        "\n",
        "**Lab Task #1:** Create a feature column dictionary that we will use when building our deep neural network below. The keys should be the element of the `INPUT_COLS` list, while the values should be numeric feature columns."
      ],
      "metadata": {
        "id": "bk6v2GRJODQG"
      }
    },
    {
      "cell_type": "code",
      "source": [
        "INPUT_COLS = [\n",
        "    \"pickup_longitude\",\n",
        "    \"pickup_latitude\",\n",
        "    \"dropoff_longitude\",\n",
        "    \"dropoff_latitude\",\n",
        "    \"passenger_count\",\n",
        "]\n",
        "\n",
        "# Create input layer of feature columns\n",
        "\n",
        "# TODO 1\n",
        "feature_columns = {\n",
        "    colname: tf.feature_column.numeric_column(colname) for colname in INPUT_COLS\n",
        "}"
      ],
      "metadata": {
        "id": "w5MCwcVHOIU4"
      },
      "execution_count": null,
      "outputs": []
    },
    {
      "cell_type": "markdown",
      "source": [
        "Next, we create the DNN model. The Sequential model is a linear stack of layers and when building a model using the Sequential API, you configure each layer of the model in turn. Once all the layers have been added, you compile the model."
      ],
      "metadata": {
        "id": "Y1bzO_KdOLTC"
      }
    },
    {
      "cell_type": "code",
      "source": [
        "# Build a keras DNN model using Sequential API\n",
        "\n",
        "# TODO 2a\n",
        "model = Sequential(\n",
        "    [\n",
        "        DenseFeatures(feature_columns=feature_columns.values()),\n",
        "        Dense(units=32, activation=\"relu\", name=\"h1\"),\n",
        "        Dense(units=8, activation=\"relu\", name=\"h2\"),\n",
        "        Dense(units=1, activation=\"linear\", name=\"output\"),\n",
        "    ]\n",
        ")"
      ],
      "metadata": {
        "id": "DeD4GHC5ONmo"
      },
      "execution_count": null,
      "outputs": []
    },
    {
      "cell_type": "markdown",
      "source": [
        "Next, to prepare the model for training, you must configure the learning process. This is done using the compile method. The compile method takes three arguments:\n",
        "\n",
        "* An optimizer. This could be the string identifier of an existing optimizer (such as `rmsprop` or `adagrad`), or an instance of the [Optimizer class](https://www.tensorflow.org/versions/r2.0/api_docs/python/tf/keras/optimizers).\n",
        "* A loss function. This is the objective that the model will try to minimize. It can be the string identifier of an existing loss function from the [Losses class](https://www.tensorflow.org/versions/r2.0/api_docs/python/tf/keras/losses) (such as categorical_crossentropy or mse), or it can be a custom objective function.\n",
        "* A list of metrics. For any machine learning problem you will want a set of metrics to evaluate your model. A metric could be the string identifier of an existing metric or a custom metric function.\n",
        "\n",
        "We will add an additional custom metric called `rmse` to our list of metrics which will return the root mean square error."
      ],
      "metadata": {
        "id": "OnD_RbrqOQOK"
      }
    },
    {
      "cell_type": "code",
      "source": [
        "# TODO 2b\n",
        "# Create a custom evalution metric\n",
        "def rmse(y_true, y_pred):\n",
        "    return tf.sqrt(tf.reduce_mean(tf.square(y_pred - y_true)))\n",
        "\n",
        "\n",
        "# Compile the keras model\n",
        "model.compile(optimizer=\"adam\", loss=\"mse\", metrics=[rmse, \"mse\"])"
      ],
      "metadata": {
        "id": "mbMwvlXzOZtt"
      },
      "execution_count": null,
      "outputs": []
    },
    {
      "cell_type": "markdown",
      "source": [
        "## Train the model"
      ],
      "metadata": {
        "id": "GBO8RpTyOdJV"
      }
    },
    {
      "cell_type": "markdown",
      "source": [
        "To train your model, Keras provides three functions that can be used:\n",
        " 1. `.fit()` for training a model for a fixed number of epochs (iterations on a dataset).\n",
        " 2. `.fit_generator()` for training a model on data yielded batch-by-batch by a generator\n",
        " 3. `.train_on_batch()` runs a single gradient update on a single batch of data.\n",
        "\n",
        "The `.fit()` function works well for small datasets which can fit entirely in memory. However, for large datasets (or if you need to manipulate the training data on the fly via data augmentation, etc) you will need to use `.fit_generator()` instead. The `.train_on_batch()` method is for more fine-grained control over training and accepts only a single batch of data.\n",
        "\n",
        "The taxifare dataset we sampled is small enough to fit in memory, so can we could use `.fit` to train our model. Our `create_dataset` function above generates batches of training examples, so we could also use `.fit_generator`. In fact, when calling `.fit` the method inspects the data, and if it's a generator (as our dataset is) it will invoke automatically `.fit_generator` for training.\n",
        "\n",
        "We start by setting up some parameters for our training job and create the data generators for the training and validation data.\n",
        "\n",
        "We refer you the the blog post [ML Design Pattern #3: Virtual Epochs](https://medium.com/google-cloud/ml-design-pattern-3-virtual-epochs-f842296de730) for further details on why express the training in terms of `NUM_TRAIN_EXAMPLES` and `NUM_EVALS` and why, in this training code, the number of epochs is really equal to the number of evaluations we perform."
      ],
      "metadata": {
        "id": "g6vID4WuOf2t"
      }
    },
    {
      "cell_type": "code",
      "source": [
        "TRAIN_BATCH_SIZE = 1000\n",
        "NUM_TRAIN_EXAMPLES = 10000 * 5  # training dataset will repeat, wrap around\n",
        "NUM_EVALS = 50  # how many times to evaluate\n",
        "NUM_EVAL_EXAMPLES = 10000  # enough to get a reasonable sample\n",
        "\n",
        "trainds = create_dataset(\n",
        "    pattern=\"../data/taxi-train*\", batch_size=TRAIN_BATCH_SIZE, mode=\"train\"\n",
        ")\n",
        "\n",
        "evalds = create_dataset(\n",
        "    pattern=\"../data/taxi-valid*\", batch_size=1000, mode=\"eval\"\n",
        ").take(NUM_EVAL_EXAMPLES // 1000)"
      ],
      "metadata": {
        "id": "aedn3aqLOVsH"
      },
      "execution_count": null,
      "outputs": []
    },
    {
      "cell_type": "markdown",
      "source": [
        "There are various arguments you can set when calling the [.fit method](https://www.tensorflow.org/versions/r2.0/api_docs/python/tf/keras/Model#fit). Here `x` specifies the input data which in our case is a `tf.data` dataset returning a tuple of (inputs, targets). The `steps_per_epoch` parameter is used to mark the end of training for a single epoch. Here we are training for NUM_EVALS epochs. Lastly, for the `callback` argument we specify a Tensorboard callback so we can inspect Tensorboard after training."
      ],
      "metadata": {
        "id": "zHxpgKIpOkQZ"
      }
    },
    {
      "cell_type": "code",
      "source": [
        "# TODO 3\n",
        "%time\n",
        "steps_per_epoch = NUM_TRAIN_EXAMPLES // (TRAIN_BATCH_SIZE * NUM_EVALS)\n",
        "\n",
        "LOGDIR = \"./taxi_trained\"\n",
        "history = model.fit(\n",
        "    x=trainds,\n",
        "    steps_per_epoch=steps_per_epoch,\n",
        "    epochs=NUM_EVALS,\n",
        "    validation_data=evalds,\n",
        "    callbacks=[TensorBoard(LOGDIR)],\n",
        ")"
      ],
      "metadata": {
        "id": "PfTKyryGOmPB"
      },
      "execution_count": null,
      "outputs": []
    },
    {
      "cell_type": "markdown",
      "source": [
        "### High-level model evaluation"
      ],
      "metadata": {
        "id": "jF5-UcrvOrEf"
      }
    },
    {
      "cell_type": "markdown",
      "source": [
        "Once we've run data through the model, we can call `.summary()` on the model to get a high-level summary of our network. We can also plot the training and evaluation curves for the metrics we computed above."
      ],
      "metadata": {
        "id": "1tMmf8xFOuan"
      }
    },
    {
      "cell_type": "code",
      "source": [
        "model.summary()"
      ],
      "metadata": {
        "id": "FKRjJFZ6Oxpx"
      },
      "execution_count": null,
      "outputs": []
    },
    {
      "cell_type": "markdown",
      "source": [
        "Running `.fit` (or `.fit_generator`) returns a History object which collects all the events recorded during training. Similar to Tensorboard, we can plot the training and validation curves for the model loss and rmse by accessing these elements of the History object."
      ],
      "metadata": {
        "id": "Plx0dHf-O0nx"
      }
    },
    {
      "cell_type": "code",
      "source": [
        "RMSE_COLS = [\"rmse\", \"val_rmse\"]\n",
        "\n",
        "pd.DataFrame(history.history)[RMSE_COLS].plot()"
      ],
      "metadata": {
        "id": "k4SPCDMnO2pd"
      },
      "execution_count": null,
      "outputs": []
    },
    {
      "cell_type": "code",
      "source": [
        "LOSS_COLS = [\"loss\", \"val_loss\"]\n",
        "\n",
        "pd.DataFrame(history.history)[LOSS_COLS].plot()"
      ],
      "metadata": {
        "id": "igXgUYdzO4jq"
      },
      "execution_count": null,
      "outputs": []
    },
    {
      "cell_type": "markdown",
      "source": [
        "# Making predictions with our model"
      ],
      "metadata": {
        "id": "-JOpTq8MO6X5"
      }
    },
    {
      "cell_type": "markdown",
      "source": [
        "To make predictions with our trained model, we can call the predict method, passing to it a dictionary of values. The steps parameter determines the total number of steps before declaring the prediction round finished. Here since we have just one example, we set steps=1 (setting steps=None would also work). Note, however, that if x is a tf.data dataset or a dataset iterator, and steps is set to None, predict will run until the input dataset is exhausted."
      ],
      "metadata": {
        "id": "C6Cmcu96O9Nf"
      }
    },
    {
      "cell_type": "code",
      "source": [
        "model.predict(\n",
        "    x={\n",
        "        \"pickup_longitude\": tf.convert_to_tensor([-73.982683]),\n",
        "        \"pickup_latitude\": tf.convert_to_tensor([40.742104]),\n",
        "        \"dropoff_longitude\": tf.convert_to_tensor([-73.983766]),\n",
        "        \"dropoff_latitude\": tf.convert_to_tensor([40.755174]),\n",
        "        \"passenger_count\": tf.convert_to_tensor([3.0]),\n",
        "    },\n",
        "    steps=1,\n",
        ")"
      ],
      "metadata": {
        "id": "9ufM5nY7O_Hh"
      },
      "execution_count": null,
      "outputs": []
    },
    {
      "cell_type": "markdown",
      "source": [
        "# Export and deploy our model\n"
      ],
      "metadata": {
        "id": "6Gm5RVfaPChf"
      }
    },
    {
      "cell_type": "markdown",
      "source": [
        "Of course, making individual predictions is not realistic, because we can't expect client code to have a model object in memory. For others to use our trained model, we'll have to export our model to a file, and expect client code to instantiate the model from that exported file.\n",
        "\n",
        "We'll export the model to a TensorFlow SavedModel format. Once we have a model in this format, we have lots of ways to \"serve\" the model, from a web application, from JavaScript, from mobile applications, etc."
      ],
      "metadata": {
        "id": "LsSNf7nhPFSJ"
      }
    },
    {
      "cell_type": "code",
      "source": [
        "OUTPUT_DIR = \"./export/savedmodel\"\n",
        "shutil.rmtree(OUTPUT_DIR, ignore_errors=True)\n",
        "TIMESTAMP = datetime.datetime.now().strftime(\"%Y%m%d%H%M%S\")\n",
        "\n",
        "EXPORT_PATH = os.path.join(OUTPUT_DIR, TIMESTAMP)\n",
        "\n",
        "tf.saved_model.save(model, EXPORT_PATH)  # with default serving function"
      ],
      "metadata": {
        "id": "TLqPcJnEPG2F"
      },
      "execution_count": null,
      "outputs": []
    },
    {
      "cell_type": "code",
      "source": [
        "!saved_model_cli show \\\n",
        "    --tag_set serve \\\n",
        "    --signature_def serving_default \\\n",
        "    --dir {EXPORT_PATH}\n",
        "\n",
        "!find {EXPORT_PATH}\n",
        "os.environ['EXPORT_PATH'] = EXPORT_PATH"
      ],
      "metadata": {
        "id": "W1yMF4ujPJGV"
      },
      "execution_count": null,
      "outputs": []
    },
    {
      "cell_type": "markdown",
      "source": [
        "## Deploy our model to Vertex AI"
      ],
      "metadata": {
        "id": "SuHiS_Y_PLAT"
      }
    },
    {
      "cell_type": "markdown",
      "source": [
        "Finally, we will deploy our trained model to Vertex AI and see how we can make online predicitons."
      ],
      "metadata": {
        "id": "ikdBPz85PM2W"
      }
    },
    {
      "cell_type": "code",
      "source": [
        "PROJECT = !gcloud config list --format 'value(core.project)' 2>/dev/null\n",
        "PROJECT = PROJECT[0]\n",
        "BUCKET = PROJECT\n",
        "REGION = \"us-central1\"\n",
        "MODEL_DISPLAYNAME = f\"taxifare-kerase-sequential{TIMESTAMP}\"\n",
        "\n",
        "print(f\"MODEL_DISPLAYNAME: {MODEL_DISPLAYNAME}\")\n",
        "\n",
        "# from https://cloud.google.com/vertex-ai/docs/predictions/pre-built-containers\n",
        "SERVING_CONTAINER_IMAGE_URI = (\n",
        "    \"us-docker.pkg.dev/vertex-ai/prediction/tf2-cpu.2-3:latest\"\n",
        ")\n",
        "\n",
        "os.environ[\"BUCKET\"] = BUCKET\n",
        "os.environ[\"REGION\"] = REGION"
      ],
      "metadata": {
        "id": "fZH4Kp09PPbK"
      },
      "execution_count": null,
      "outputs": []
    },
    {
      "cell_type": "code",
      "source": [
        "%%bash\n",
        "# Create GCS bucket if it doesn't exist already...\n",
        "exists=$(gsutil ls -d | grep -w gs://${BUCKET}/)\n",
        "\n",
        "if [ -n \"$exists\" ]; then\n",
        "    echo -e \"Bucket exists, let's not recreate it.\"\n",
        "else\n",
        "    echo \"Creating a new GCS bucket.\"\n",
        "    gsutil mb -l ${REGION} gs://${BUCKET}\n",
        "    echo \"Here are your current buckets:\"\n",
        "    gsutil ls\n",
        "fi"
      ],
      "metadata": {
        "id": "2qE7N24WPSuF"
      },
      "execution_count": null,
      "outputs": []
    },
    {
      "cell_type": "code",
      "source": [
        "!gsutil cp -R $EXPORT_PATH gs://$BUCKET/$MODEL_DISPLAYNAME"
      ],
      "metadata": {
        "id": "rxnzP4kcPVEi"
      },
      "execution_count": null,
      "outputs": []
    },
    {
      "cell_type": "code",
      "source": [
        "MACHINE_TYPE = \"e2-standard-2\"\n",
        "\n",
        "endpoint = uploaded_model.deploy(\n",
        "    machine_type=MACHINE_TYPE,\n",
        "    accelerator_type=None,\n",
        "    accelerator_count=None,\n",
        ")"
      ],
      "metadata": {
        "id": "u5BqbztdPY0l"
      },
      "execution_count": null,
      "outputs": []
    },
    {
      "cell_type": "code",
      "source": [
        "uploaded_model = aiplatform.Model.upload(\n",
        "    display_name=MODEL_DISPLAYNAME,\n",
        "    artifact_uri=f\"gs://{BUCKET}/{MODEL_DISPLAYNAME}\",\n",
        "    serving_container_image_uri=SERVING_CONTAINER_IMAGE_URI,\n",
        ")"
      ],
      "metadata": {
        "id": "XylYDnwcPXR_"
      },
      "execution_count": null,
      "outputs": []
    },
    {
      "cell_type": "code",
      "source": [
        "instance = {\n",
        "    \"pickup_longitude\": -73.982683,\n",
        "    \"pickup_latitude\": 40.742104,\n",
        "    \"dropoff_longitude\": -73.983766,\n",
        "    \"dropoff_latitude\": 40.755174,\n",
        "    \"passenger_count\": 3.0,\n",
        "}"
      ],
      "metadata": {
        "id": "GiAGTH2LPad6"
      },
      "execution_count": null,
      "outputs": []
    },
    {
      "cell_type": "code",
      "source": [
        "endpoint.predict([instance])"
      ],
      "metadata": {
        "id": "gJWmqn0LPdBR"
      },
      "execution_count": null,
      "outputs": []
    },
    {
      "cell_type": "markdown",
      "source": [
        "# Cleanup\n",
        "\n",
        "When deploying a model to an endpoint for online prediction, the minimum `min-replica-count` is 1, and it is charged per node hour. So let's delete the endpoint to reduce unnecessary charges. Before we can delete the endpoint, we first undeploy all attached models..."
      ],
      "metadata": {
        "id": "IDQ9OoSLPSD3"
      }
    },
    {
      "cell_type": "code",
      "source": [
        "endpoint.undeploy_all()"
      ],
      "metadata": {
        "id": "KQ0Te4yYPcb8"
      },
      "execution_count": null,
      "outputs": []
    },
    {
      "cell_type": "code",
      "source": [
        "endpoint.delete()"
      ],
      "metadata": {
        "id": "N3gW87NsPjCd"
      },
      "execution_count": null,
      "outputs": []
    }
  ]
}